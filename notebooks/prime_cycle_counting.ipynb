{
 "cells": [
  {
   "cell_type": "markdown",
   "id": "e568325a-f0ba-4b91-aa65-b3a355da2536",
   "metadata": {},
   "source": [
    "# Prime cycles of length N with K symbols.\n",
    "\n",
    "Starts with an array of K symbols, and then recursively builts up the prime cycles. Basically just tacks on each symbol to every prime cycle of length N-1 and then checks\n",
    "for repeats. I think that that works if permutations aren't used to build up the cycles at any point."
   ]
  },
  {
   "cell_type": "code",
   "execution_count": 1,
   "id": "85e1b23d-2eee-4356-be53-c050d7005b73",
   "metadata": {},
   "outputs": [],
   "source": [
    "states = ['0', '1', '2']"
   ]
  },
  {
   "cell_type": "code",
   "execution_count": 2,
   "id": "76cef0b7-db3e-4476-9916-6237cd751ad0",
   "metadata": {},
   "outputs": [],
   "source": [
    "import itertools"
   ]
  },
  {
   "cell_type": "code",
   "execution_count": 3,
   "id": "bc926af6-c8db-4a20-8b90-976846e364a4",
   "metadata": {},
   "outputs": [],
   "source": [
    "from functools import lru_cache"
   ]
  },
  {
   "cell_type": "markdown",
   "id": "e8347a0d-b294-480c-99b9-4d609f04c7f8",
   "metadata": {},
   "source": [
    "$\\frac{1}{n}(2^n - q^k n_k)$"
   ]
  },
  {
   "cell_type": "code",
   "execution_count": null,
   "id": "e1833ef2-ebb7-4d31-b31a-adf2e5904409",
   "metadata": {},
   "outputs": [],
   "source": [
    "import numpy as np\n",
    "\n",
    "from collections import Counter\n",
    "\n",
    "from scipy.special import comb"
   ]
  },
  {
   "cell_type": "code",
   "execution_count": 153,
   "id": "23fd31ea-efab-4607-a320-13286b1f18da",
   "metadata": {},
   "outputs": [],
   "source": [
    "def n_prime_cycles(n, k):\n",
    "    if n == 1:\n",
    "        return k\n",
    "    elif n == 2:\n",
    "        return int(comb(k, 2))\n",
    "    else:\n",
    "        return int((1./n) * (k ** n - np.sum([n_prime_cycles(j, k) * j for j in range(1, n//2 + 1) if n % j == 0])))"
   ]
  },
  {
   "cell_type": "markdown",
   "id": "d3a7dfcf-67ee-4610-aa9e-a5d8ea1b5f18",
   "metadata": {},
   "source": [
    "$q(n+1, k) = \\frac{1}{n}(k^n - q(n, k) * k)$"
   ]
  },
  {
   "cell_type": "code",
   "execution_count": 265,
   "id": "840e341e-6b2b-4629-bf52-18829d6fbd10",
   "metadata": {},
   "outputs": [],
   "source": [
    "# @lru_cache\n",
    "def prime_cycles(n, k, parse_output=True):\n",
    "    if n == 1:\n",
    "        return  [str(x) for x in range(k)]\n",
    "    if n == 2:\n",
    "        # return prime_cycles(1) +  [''.join(x) for x in list(itertools.combinations(prime_cycles(1), 2))]\n",
    "        return [''.join(x) for x in list(itertools.combinations(prime_cycles(1, k), 2))]\n",
    "    else:\n",
    "        # return [''.join(x) for x in itertools.combinations(prime_cycles(n-1), 2)]\n",
    "        \n",
    "        possible_divisors = list(itertools.chain.from_iterable([prime_cycles(i, k) for i in range(1, n//2 + 1) if n % i == 0]))\n",
    "    \n",
    "        candidates = [''.join(x) for x in itertools.product(prime_cycles(1, k), prime_cycles(n-1, k))]\n",
    "\n",
    "        without_repeats = []\n",
    "        for cycle_candidate in candidates:\n",
    "            repeat = False\n",
    "            for each_divisor in possible_divisors:\n",
    "                if (cycle_candidate.count(each_divisor) * len(each_divisor) == n):\n",
    "                    repeat = True\n",
    "                    break\n",
    "            if not repeat and cycle_candidate not in without_repeats:\n",
    "                without_repeats.append(cycle_candidate)\n",
    "\n",
    "        rolled_charwise_array = np.array([[char for char in y] for y in without_repeats]).reshape(-1, n, 1)\n",
    "        next_roll = rolled_charwise_array.copy()\n",
    "        \n",
    "        for shift in range(1, n):\n",
    "            next_roll = np.roll(np.array([[char for char in y] for y in next_roll]), 1, axis=1).reshape(-1, n, 1)\n",
    "            rolled_charwise_array = np.concatenate((rolled_charwise_array, next_roll), axis=-1)\n",
    "        \n",
    "        without_cyclics = [list(cycle)[0] for cycle in set([frozenset(s) for s in rolled_charwise_array.astype(object).sum(axis=1)])]\n",
    "        print(len(without_repeats), len(without_cyclics),  n_prime_cycles(n, k))\n",
    "        if (len(without_cyclics) < n_prime_cycles(n, k)) and parse_output:\n",
    "            return [frozenset(s) for s in rolled_charwise_array.astype(object).sum(axis=1)]\n",
    "        return without_cyclics"
   ]
  },
  {
   "cell_type": "code",
   "execution_count": null,
   "id": "052fae11-c8c5-481e-9b2c-c9e61191edd7",
   "metadata": {
    "tags": []
   },
   "outputs": [],
   "source": []
  },
  {
   "cell_type": "code",
   "execution_count": 268,
   "id": "5df6638f-ca39-4ec6-8018-f4a4f25b51dd",
   "metadata": {},
   "outputs": [
    {
     "name": "stdout",
     "output_type": "stream",
     "text": [
      "9 8 8\n",
      "23 18 18\n",
      "54 37 48\n",
      "9 8 8\n",
      "23 18 18\n",
      "54 37 48\n"
     ]
    }
   ],
   "source": [
    "n = 5\n",
    "k = 3\n",
    "wr = prime_cycles(n, k, parse_output=True)\n",
    "\n",
    "wc = prime_cycles(n, k, parse_output=False)\n",
    "# if not len(ncyc) == n_prime_cycles(n, k):\n",
    "#     print(len(ncyc), n_prime_cycles(n, k))"
   ]
  },
  {
   "cell_type": "code",
   "execution_count": 257,
   "id": "b1d06714-7e92-4e92-9eab-86b9e7986570",
   "metadata": {},
   "outputs": [
    {
     "data": {
      "text/plain": [
       "54"
      ]
     },
     "execution_count": 257,
     "metadata": {},
     "output_type": "execute_result"
    }
   ],
   "source": [
    "len(wr)"
   ]
  },
  {
   "cell_type": "code",
   "execution_count": 239,
   "id": "41513b64-8990-4349-84d3-e059b9a8966a",
   "metadata": {},
   "outputs": [],
   "source": [
    "n = 4 \n",
    "k = 2"
   ]
  },
  {
   "cell_type": "code",
   "execution_count": 209,
   "id": "47e2d1a2-685e-49be-8884-a583e5d34fdc",
   "metadata": {},
   "outputs": [],
   "source": [
    "possible_divisors = list(itertools.chain.from_iterable([prime_cycles(i, 2) for i in range(1, n//2 + 1) if n % i == 0]))\n",
    "new_cycles_temp = [''.join(x) for x in itertools.product(prime_cycles(1, k), prime_cycles(n-1, k))]"
   ]
  },
  {
   "cell_type": "code",
   "execution_count": 210,
   "id": "6cacf714-4314-4815-9a3f-89b80b9ab216",
   "metadata": {},
   "outputs": [
    {
     "data": {
      "text/plain": [
       "['0', '1', '01']"
      ]
     },
     "execution_count": 210,
     "metadata": {},
     "output_type": "execute_result"
    }
   ],
   "source": [
    "possible_divisors"
   ]
  },
  {
   "cell_type": "code",
   "execution_count": 168,
   "id": "45f3f880-1497-4643-be10-d5c1c02e575e",
   "metadata": {},
   "outputs": [
    {
     "data": {
      "text/plain": [
       "4"
      ]
     },
     "execution_count": 168,
     "metadata": {},
     "output_type": "execute_result"
    }
   ],
   "source": [
    "new_cycles_temp[1].count(possible_divisors[-1]) * len(possible_divisors[-1])"
   ]
  },
  {
   "cell_type": "code",
   "execution_count": 164,
   "id": "91e32bbe-3d52-4acf-afda-fbf842191135",
   "metadata": {},
   "outputs": [
    {
     "data": {
      "text/plain": [
       "['0001', '0101', '1001', '1101']"
      ]
     },
     "execution_count": 164,
     "metadata": {},
     "output_type": "execute_result"
    }
   ],
   "source": [
    "new_cycles_temp"
   ]
  },
  {
   "cell_type": "code",
   "execution_count": 159,
   "id": "2f91a6c5-5716-40b4-b593-9aae1045ad29",
   "metadata": {},
   "outputs": [
    {
     "data": {
      "text/plain": [
       "['0', '1', '01', '001', '101']"
      ]
     },
     "execution_count": 159,
     "metadata": {},
     "output_type": "execute_result"
    }
   ],
   "source": [
    "list(itertools.chain.from_iterable([prime_cycles(i, 2) for i in range(1, n//2 + 1) if n % i == 0]))"
   ]
  },
  {
   "cell_type": "code",
   "execution_count": 132,
   "id": "41af1eb4-dd4c-4024-913a-d6a6e17b63a0",
   "metadata": {},
   "outputs": [
    {
     "data": {
      "text/plain": [
       "['0', '1', '01', '001', '101']"
      ]
     },
     "execution_count": 132,
     "metadata": {},
     "output_type": "execute_result"
    }
   ],
   "source": []
  },
  {
   "cell_type": "code",
   "execution_count": null,
   "id": "7760dcdc-b6b2-458b-b9dd-bf0b37173d54",
   "metadata": {},
   "outputs": [],
   "source": []
  },
  {
   "cell_type": "markdown",
   "id": "4f2aefa9-b972-4018-bc8c-3aa571d7fa2f",
   "metadata": {},
   "source": [
    "number primes \n",
    "n=1 -> [0, 1]\n",
    "n=2 -> [01]\n",
    "n=3 = 2\n",
    "n=4 = 1/4 (2^4 - (2*1) - (1 * 2)) = 3"
   ]
  },
  {
   "cell_type": "code",
   "execution_count": 113,
   "id": "d5465025-6620-4365-aa29-ab23c4300dc7",
   "metadata": {},
   "outputs": [
    {
     "data": {
      "text/plain": [
       "['0001', '0101', '1001', '1101']"
      ]
     },
     "execution_count": 113,
     "metadata": {},
     "output_type": "execute_result"
    }
   ],
   "source": [
    "sorted(prime_cycles(4, k=2), key=len, reverse=True)"
   ]
  },
  {
   "cell_type": "code",
   "execution_count": 78,
   "id": "0137dbf5-9e6a-413b-affe-822830eac096",
   "metadata": {},
   "outputs": [
    {
     "data": {
      "text/plain": [
       "['001', '002', '012', '101', '102', '112', '201', '202', '212']"
      ]
     },
     "execution_count": 78,
     "metadata": {},
     "output_type": "execute_result"
    }
   ],
   "source": [
    "prime_cycles(3)"
   ]
  },
  {
   "cell_type": "code",
   "execution_count": 32,
   "id": "bceab199-7897-4a82-9a79-623ec3547b83",
   "metadata": {},
   "outputs": [
    {
     "data": {
      "text/plain": [
       "\u001b[1;31mInit signature:\u001b[0m \u001b[0mitertools\u001b[0m\u001b[1;33m.\u001b[0m\u001b[0mcombinations\u001b[0m\u001b[1;33m(\u001b[0m\u001b[0miterable\u001b[0m\u001b[1;33m,\u001b[0m \u001b[0mr\u001b[0m\u001b[1;33m)\u001b[0m\u001b[1;33m\u001b[0m\u001b[1;33m\u001b[0m\u001b[0m\n",
       "\u001b[1;31mDocstring:\u001b[0m     \n",
       "Return successive r-length combinations of elements in the iterable.\n",
       "\n",
       "combinations(range(4), 3) --> (0,1,2), (0,1,3), (0,2,3), (1,2,3)\n",
       "\u001b[1;31mType:\u001b[0m           type\n",
       "\u001b[1;31mSubclasses:\u001b[0m     \n"
      ]
     },
     "metadata": {},
     "output_type": "display_data"
    }
   ],
   "source": [
    "itertools.combinations?"
   ]
  }
 ],
 "metadata": {
  "kernelspec": {
   "display_name": "Python 3 (ipykernel)",
   "language": "python",
   "name": "python3"
  },
  "language_info": {
   "codemirror_mode": {
    "name": "ipython",
    "version": 3
   },
   "file_extension": ".py",
   "mimetype": "text/x-python",
   "name": "python",
   "nbconvert_exporter": "python",
   "pygments_lexer": "ipython3",
   "version": "3.10.4"
  }
 },
 "nbformat": 4,
 "nbformat_minor": 5
}
